{
 "cells": [
  {
   "cell_type": "code",
   "execution_count": 1,
   "metadata": {},
   "outputs": [
    {
     "name": "stdout",
     "output_type": "stream",
     "text": [
      "Collecting scikit-learn==1.4.0\n",
      "  Using cached scikit_learn-1.4.0-1-cp39-cp39-macosx_12_0_arm64.whl (10.7 MB)\n",
      "Requirement already satisfied: scipy>=1.6.0 in /Users/hassanraufbutt/.pyenv/versions/3.9.13/envs/leadScore/lib/python3.9/site-packages (from scikit-learn==1.4.0) (1.11.4)\n",
      "Requirement already satisfied: threadpoolctl>=2.0.0 in /Users/hassanraufbutt/.pyenv/versions/3.9.13/envs/leadScore/lib/python3.9/site-packages (from scikit-learn==1.4.0) (3.5.0)\n",
      "Requirement already satisfied: joblib>=1.2.0 in /Users/hassanraufbutt/.pyenv/versions/3.9.13/envs/leadScore/lib/python3.9/site-packages (from scikit-learn==1.4.0) (1.3.2)\n",
      "Requirement already satisfied: numpy<2.0,>=1.19.5 in /Users/hassanraufbutt/.pyenv/versions/3.9.13/envs/leadScore/lib/python3.9/site-packages (from scikit-learn==1.4.0) (1.26.4)\n",
      "Installing collected packages: scikit-learn\n",
      "  Attempting uninstall: scikit-learn\n",
      "    Found existing installation: scikit-learn 1.4.2\n",
      "    Uninstalling scikit-learn-1.4.2:\n",
      "      Successfully uninstalled scikit-learn-1.4.2\n",
      "\u001b[31mERROR: pip's dependency resolver does not currently take into account all the packages that are installed. This behaviour is the source of the following dependency conflicts.\n",
      "pycaret 3.3.2 requires scikit-learn>1.4.0, but you have scikit-learn 1.4.0 which is incompatible.\u001b[0m\u001b[31m\n",
      "\u001b[0mSuccessfully installed scikit-learn-1.4.0\n",
      "\u001b[33mWARNING: You are using pip version 22.0.4; however, version 24.0 is available.\n",
      "You should consider upgrading via the '/Users/hassanraufbutt/.pyenv/versions/3.9.13/envs/leadScore/bin/python3.9 -m pip install --upgrade pip' command.\u001b[0m\u001b[33m\n",
      "\u001b[0m"
     ]
    }
   ],
   "source": [
    "! pip install scikit-learn==1.4.0\n",
    "\n",
    "import pandas as pd \n",
    "import numpy as np\n",
    "import matplotlib.pyplot as plt\n",
    "from sklearn.model_selection import train_test_split, GridSearchCV\n",
    "from sklearn.preprocessing import StandardScaler\n",
    "from sklearn.neighbors import KNeighborsClassifier\n",
    "from sklearn.ensemble import RandomForestClassifier\n",
    "from sklearn.tree import DecisionTreeClassifier, export_graphviz, plot_tree\n",
    "import graphviz\n",
    "from sklearn.svm import SVC\n",
    "from sklearn.metrics import accuracy_score, confusion_matrix\n",
    "import pycaret\n",
    "from pycaret.classification import load_model,predict_model\n",
    "from pycaret.classification import ClassificationExperiment\n",
    "import category_encoders as ce\n",
    "import modelbit\n"
   ]
  },
  {
   "cell_type": "code",
   "execution_count": 21,
   "metadata": {},
   "outputs": [],
   "source": [
    "user_input = {\n",
    "    \"1-Abschluss\": \"Example1\",\n",
    "    \"1-Abschluss in DE\": \"Example2\",\n",
    "    \"1-Deutscher Ehepartner\": \"Example3\",\n",
    "    \"1-EB/NE erfllt?\": \"Example4\",\n",
    "    \"1-Einreisejahr\": \"Example5\",\n",
    "    \"1-Antrag EB\": \"Example6\",\n",
    "    \"1-Antrag NE\": \"Example7\",\n",
    "    \"1-Integrationstest\": \"Example8\",\n",
    "    \"1-Jahr AR beantragt/bekommen\": \"Example9\",\n",
    "    \"1-Jobcenter\": \"Example10\",\n",
    "    \"1-Kinder\": 2,\n",
    "    \"1-Netto\": \"Example11\",\n",
    "    \"1-Rente\": \"Example12\",\n",
    "    \"1-Sprachzertifikat\": \"Example13\",\n",
    "    \"1-Test Sprache\": \"Example14\",\n",
    "    \"1-Welches befristete AR haben Sie?\": \"Example15\",\n",
    "    \"1-Wie ist ihr aktueller Familienstand?\": \"Example16\",\n",
    "    \"1-Beratung?\": \"Ja\",\n",
    "    \"1-Gltiger Nationalpass\": \"Example17\",\n",
    "    \"Id\": \"12345\",\n",
    "    \"Zeitpunkt der Erstellung\": \"2023-01-01\",\n",
    "    \"Sales\": 1,\n",
    "    \"Zeitpunkt der nderung\": \"2023-01-02\",\n",
    "    \"Zeitpunkt der Erstellung - Year\": 2023,\n",
    "    \"Zeitpunkt der nderung - Year\": 2023,\n",
    "    \"SalesCount\": 1\n",
    "}"
   ]
  },
  {
   "cell_type": "code",
   "execution_count": 23,
   "metadata": {},
   "outputs": [],
   "source": [
    "def remove_non_ascii(text):\n",
    "    return ''.join(char for char in text if ord(char) < 128)"
   ]
  },
  {
   "cell_type": "code",
   "execution_count": 27,
   "metadata": {},
   "outputs": [],
   "source": [
    "def preprocess_data(self, df) -> bool:\n",
    "        try:\n",
    "            new_df = df[['Abschluss', 'Abschluss_in_DE', 'Deutscher_Ehepartner', 'EB_NE_erf_llt', 'Einreisejahr', 'Haben_Sie_bereits_einen_Antrag_auf_Einb_rgerung_ge', 'Haben_Sie_bereits_einen_Antrag_auf_ein_unbefristet', 'Integrationstest',\n",
    "                         'Jahr_AR_beantragt_bekommen', 'Jobcenter', 'Kinder', 'Netto', 'Rente', 'Sprachzertifikat1', 'Test_Sprache', 'Welches_befristete_AR_haben_Sie', 'Wie_ist_ihr_aktueller_Familienstand', 'Beratung', 'G_ltiger_Nationalpass', 'id', 'Sales']]\n",
    "            new_df.columns = ['1-Abschluss', '1-Abschluss in DE', '1-Deutscher Ehepartner', '1-EB/NE erfllt?', '1-Einreisejahr', '1-Antrag EB', '1-Antrag NE', '1-Integrationstest', '1-Jahr AR beantragt/bekommen', '1-Jobcenter',\n",
    "                              '1-Kinder', '1-Netto', '1-Rente', '1-Sprachzertifikat', '1-Test Sprache', '1-Welches befristete AR haben Sie?', '1-Wie ist ihr aktueller Familienstand?', '1-Beratung?', '1-Gltiger Nationalpass', 'Id', 'Sales']\n",
    "            temp_df = new_df\n",
    "            temp_df[\"Sales\"] = temp_df[\"Sales\"].astype('int64')\n",
    "            temp_df[\"SalesCount\"] = temp_df[\"Sales\"].apply(\n",
    "                lambda x: 1 if x > 0 else 0)\n",
    "            temp_df[\"SalesCount\"] = temp_df[\"SalesCount\"].astype('int64')\n",
    "            temp_df = temp_df.dropna(subset=[\"Sales\"])\n",
    "            temp_df = temp_df[temp_df[\"1-Abschluss\"] != \"\"]\n",
    "            replace_values_dict = {\n",
    "                \"1-Abschluss in DE\": {\"\": \"Not Asked\"},\n",
    "                \"1-Deutscher Ehepartner\": {\"\": \"Not Asked\"},\n",
    "                \"1-Einreisejahr\": {\"Vor 2014\": \"Vor 2015\", \"2011 oder davor\": \"Vor 2015\", \"2012\": \"Vor 2015\", \"2013\": \"Vor 2015\", \"2014\": \"Vor 2015\"},\n",
    "                \"1-Jahr AR beantragt/bekommen\": {\"Vor 2014\": \"Vor 2015\", \"2014\": \"Vor 2015\", \"\": \"Not Asked\"},\n",
    "                \"1-Jobcenter\": {\"\": \"Not Asked\"},\n",
    "                \"1-Rente\": {\"\": \"Not Asked\"},\n",
    "                \"1-Sprachzertifikat\": {\"\": \"Not Asked\"},\n",
    "                \"1-Test Sprache\": {\"\": \"Deutsch\"}\n",
    "            }\n",
    "            temp_df.replace(replace_values_dict, inplace=True)\n",
    "            temp_df = temp_df[temp_df[\"1-Antrag EB\"] != \"\"]\n",
    "            temp_df = temp_df[temp_df[\"1-Beratung?\"].isin([\"Ja\", \"Nein\"])]\n",
    "            temp_df = temp_df[temp_df[\"1-Welches befristete AR haben Sie?\"] != \"\"]\n",
    "            temp_df = temp_df.applymap(remove_non_ascii)\n",
    "            return temp_df\n",
    "        except Exception as e:\n",
    "            raise e"
   ]
  },
  {
   "cell_type": "code",
   "execution_count": 26,
   "metadata": {},
   "outputs": [],
   "source": [
    "def prepare_input_data(input_data):\n",
    "    columns = [\n",
    "        \"1-Abschluss\", \"1-Abschluss in DE\", \"1-Deutscher Ehepartner\", \"1-EB/NE erfllt?\", \"1-Einreisejahr\",\n",
    "        \"1-Antrag EB\", \"1-Antrag NE\", \"1-Integrationstest\", \"1-Jahr AR beantragt/bekommen\", \"1-Jobcenter\",\n",
    "        \"1-Kinder\", \"1-Netto\", \"1-Rente\", \"1-Sprachzertifikat\", \"1-Test Sprache\",\n",
    "        \"1-Welches befristete AR haben Sie?\", \"1-Wie ist ihr aktueller Familienstand?\", \"1-Beratung?\",\n",
    "        \"1-Gltiger Nationalpass\", \"Id\", \"Zeitpunkt der Erstellung\", \"Sales\", \"Zeitpunkt der nderung\",\n",
    "        \"Zeitpunkt der Erstellung - Year\", \"Zeitpunkt der nderung - Year\", \"SalesCount\"\n",
    "    ]\n",
    "\n",
    "    # Create a DataFrame with the input data\n",
    "    input_df = pd.DataFrame([input_data], columns=columns)\n",
    "\n",
    "    return input_df"
   ]
  },
  {
   "cell_type": "code",
   "execution_count": 38,
   "metadata": {},
   "outputs": [],
   "source": [
    "def get_prediction(input_data):\n",
    "    input_df = preprocess_data(input_data)\n",
    "    input_df.drop(columns=[\"Id\",\"SalesCount\",\"1-Beratung?\",\"1-Welches befristete AR haben Sie?\",\"1-Test Sprache\",\"Zeitpunkt der Erstellung\",\"Sales\",\"Zeitpunkt der nderung\",\"Zeitpunkt der Erstellung - Year\",\"Zeitpunkt der nderung - Year\"], inplace=True)\n",
    "    predicted_class = finalAlpha.predict(input_df)\n",
    "    probability = finalAlpha.predict_proba(input_df)\n",
    "    response = {\n",
    "        'predicted_class': predicted_class,\n",
    "        'probability': probability\n",
    "    }\n",
    "\n",
    "    return response"
   ]
  },
  {
   "cell_type": "code",
   "execution_count": 40,
   "metadata": {},
   "outputs": [],
   "source": [
    "def prediction(input_data):\n",
    "    input_df = prepare_input_data(input_data)\n",
    "    input_df.drop(columns=[\"Id\",\"SalesCount\",\"1-Beratung?\",\"1-Welches befristete AR haben Sie?\",\"1-Test Sprache\",\"Zeitpunkt der Erstellung\",\"Sales\",\"Zeitpunkt der nderung\",\"Zeitpunkt der Erstellung - Year\",\"Zeitpunkt der nderung - Year\"], inplace=True)\n",
    "    predicted_class = finalAlpha.predict(input_df)\n",
    "    probability = finalAlpha.predict_proba(input_df)\n",
    "    response = {\n",
    "        'predicted_class': predicted_class,\n",
    "        'probability': probability\n",
    "    }\n",
    "\n",
    "    return response"
   ]
  },
  {
   "cell_type": "code",
   "execution_count": 29,
   "metadata": {},
   "outputs": [],
   "source": [
    "md=modelbit.login()"
   ]
  },
  {
   "cell_type": "code",
   "execution_count": 30,
   "metadata": {},
   "outputs": [],
   "source": [
    "df = pd.read_csv('/Users/hassanraufbutt/Desktop/migrando/Migrando_Internal_CodeOnly/data/shortCleanData.csv')\n",
    "df\n",
    "df_filtered = df[df['1-Beratung?'] != 'Nein']"
   ]
  },
  {
   "cell_type": "code",
   "execution_count": 31,
   "metadata": {},
   "outputs": [],
   "source": [
    "classifyExp = ClassificationExperiment()\n",
    "encoder = ce.GLMMEncoder()"
   ]
  },
  {
   "cell_type": "code",
   "execution_count": 32,
   "metadata": {},
   "outputs": [
    {
     "data": {
      "text/html": [
       "<style type=\"text/css\">\n",
       "#T_37fce_row10_col1, #T_37fce_row16_col1, #T_37fce_row18_col1 {\n",
       "  background-color: lightgreen;\n",
       "}\n",
       "</style>\n",
       "<table id=\"T_37fce\">\n",
       "  <thead>\n",
       "    <tr>\n",
       "      <th class=\"blank level0\" >&nbsp;</th>\n",
       "      <th id=\"T_37fce_level0_col0\" class=\"col_heading level0 col0\" >Description</th>\n",
       "      <th id=\"T_37fce_level0_col1\" class=\"col_heading level0 col1\" >Value</th>\n",
       "    </tr>\n",
       "  </thead>\n",
       "  <tbody>\n",
       "    <tr>\n",
       "      <th id=\"T_37fce_level0_row0\" class=\"row_heading level0 row0\" >0</th>\n",
       "      <td id=\"T_37fce_row0_col0\" class=\"data row0 col0\" >Session id</td>\n",
       "      <td id=\"T_37fce_row0_col1\" class=\"data row0 col1\" >3358</td>\n",
       "    </tr>\n",
       "    <tr>\n",
       "      <th id=\"T_37fce_level0_row1\" class=\"row_heading level0 row1\" >1</th>\n",
       "      <td id=\"T_37fce_row1_col0\" class=\"data row1 col0\" >Target</td>\n",
       "      <td id=\"T_37fce_row1_col1\" class=\"data row1 col1\" >SalesCount</td>\n",
       "    </tr>\n",
       "    <tr>\n",
       "      <th id=\"T_37fce_level0_row2\" class=\"row_heading level0 row2\" >2</th>\n",
       "      <td id=\"T_37fce_row2_col0\" class=\"data row2 col0\" >Target type</td>\n",
       "      <td id=\"T_37fce_row2_col1\" class=\"data row2 col1\" >Binary</td>\n",
       "    </tr>\n",
       "    <tr>\n",
       "      <th id=\"T_37fce_level0_row3\" class=\"row_heading level0 row3\" >3</th>\n",
       "      <td id=\"T_37fce_row3_col0\" class=\"data row3 col0\" >Original data shape</td>\n",
       "      <td id=\"T_37fce_row3_col1\" class=\"data row3 col1\" >(12366, 26)</td>\n",
       "    </tr>\n",
       "    <tr>\n",
       "      <th id=\"T_37fce_level0_row4\" class=\"row_heading level0 row4\" >4</th>\n",
       "      <td id=\"T_37fce_row4_col0\" class=\"data row4 col0\" >Transformed data shape</td>\n",
       "      <td id=\"T_37fce_row4_col1\" class=\"data row4 col1\" >(12366, 5)</td>\n",
       "    </tr>\n",
       "    <tr>\n",
       "      <th id=\"T_37fce_level0_row5\" class=\"row_heading level0 row5\" >5</th>\n",
       "      <td id=\"T_37fce_row5_col0\" class=\"data row5 col0\" >Transformed train set shape</td>\n",
       "      <td id=\"T_37fce_row5_col1\" class=\"data row5 col1\" >(8656, 5)</td>\n",
       "    </tr>\n",
       "    <tr>\n",
       "      <th id=\"T_37fce_level0_row6\" class=\"row_heading level0 row6\" >6</th>\n",
       "      <td id=\"T_37fce_row6_col0\" class=\"data row6 col0\" >Transformed test set shape</td>\n",
       "      <td id=\"T_37fce_row6_col1\" class=\"data row6 col1\" >(3710, 5)</td>\n",
       "    </tr>\n",
       "    <tr>\n",
       "      <th id=\"T_37fce_level0_row7\" class=\"row_heading level0 row7\" >7</th>\n",
       "      <td id=\"T_37fce_row7_col0\" class=\"data row7 col0\" >Ignore features</td>\n",
       "      <td id=\"T_37fce_row7_col1\" class=\"data row7 col1\" >9</td>\n",
       "    </tr>\n",
       "    <tr>\n",
       "      <th id=\"T_37fce_level0_row8\" class=\"row_heading level0 row8\" >8</th>\n",
       "      <td id=\"T_37fce_row8_col0\" class=\"data row8 col0\" >Numeric features</td>\n",
       "      <td id=\"T_37fce_row8_col1\" class=\"data row8 col1\" >1</td>\n",
       "    </tr>\n",
       "    <tr>\n",
       "      <th id=\"T_37fce_level0_row9\" class=\"row_heading level0 row9\" >9</th>\n",
       "      <td id=\"T_37fce_row9_col0\" class=\"data row9 col0\" >Categorical features</td>\n",
       "      <td id=\"T_37fce_row9_col1\" class=\"data row9 col1\" >15</td>\n",
       "    </tr>\n",
       "    <tr>\n",
       "      <th id=\"T_37fce_level0_row10\" class=\"row_heading level0 row10\" >10</th>\n",
       "      <td id=\"T_37fce_row10_col0\" class=\"data row10 col0\" >Preprocess</td>\n",
       "      <td id=\"T_37fce_row10_col1\" class=\"data row10 col1\" >True</td>\n",
       "    </tr>\n",
       "    <tr>\n",
       "      <th id=\"T_37fce_level0_row11\" class=\"row_heading level0 row11\" >11</th>\n",
       "      <td id=\"T_37fce_row11_col0\" class=\"data row11 col0\" >Imputation type</td>\n",
       "      <td id=\"T_37fce_row11_col1\" class=\"data row11 col1\" >simple</td>\n",
       "    </tr>\n",
       "    <tr>\n",
       "      <th id=\"T_37fce_level0_row12\" class=\"row_heading level0 row12\" >12</th>\n",
       "      <td id=\"T_37fce_row12_col0\" class=\"data row12 col0\" >Numeric imputation</td>\n",
       "      <td id=\"T_37fce_row12_col1\" class=\"data row12 col1\" >mean</td>\n",
       "    </tr>\n",
       "    <tr>\n",
       "      <th id=\"T_37fce_level0_row13\" class=\"row_heading level0 row13\" >13</th>\n",
       "      <td id=\"T_37fce_row13_col0\" class=\"data row13 col0\" >Categorical imputation</td>\n",
       "      <td id=\"T_37fce_row13_col1\" class=\"data row13 col1\" >mode</td>\n",
       "    </tr>\n",
       "    <tr>\n",
       "      <th id=\"T_37fce_level0_row14\" class=\"row_heading level0 row14\" >14</th>\n",
       "      <td id=\"T_37fce_row14_col0\" class=\"data row14 col0\" >Maximum one-hot encoding</td>\n",
       "      <td id=\"T_37fce_row14_col1\" class=\"data row14 col1\" >1</td>\n",
       "    </tr>\n",
       "    <tr>\n",
       "      <th id=\"T_37fce_level0_row15\" class=\"row_heading level0 row15\" >15</th>\n",
       "      <td id=\"T_37fce_row15_col0\" class=\"data row15 col0\" >Encoding method</td>\n",
       "      <td id=\"T_37fce_row15_col1\" class=\"data row15 col1\" >GLMMEncoder(binomial_target=None, cols=None, drop_invariant=False,\n",
       "            handle_missing='value', handle_unknown='value', random_state=None,\n",
       "            randomized=False, return_df=True, sigma=0.05, verbose=0)</td>\n",
       "    </tr>\n",
       "    <tr>\n",
       "      <th id=\"T_37fce_level0_row16\" class=\"row_heading level0 row16\" >16</th>\n",
       "      <td id=\"T_37fce_row16_col0\" class=\"data row16 col0\" >Normalize</td>\n",
       "      <td id=\"T_37fce_row16_col1\" class=\"data row16 col1\" >True</td>\n",
       "    </tr>\n",
       "    <tr>\n",
       "      <th id=\"T_37fce_level0_row17\" class=\"row_heading level0 row17\" >17</th>\n",
       "      <td id=\"T_37fce_row17_col0\" class=\"data row17 col0\" >Normalize method</td>\n",
       "      <td id=\"T_37fce_row17_col1\" class=\"data row17 col1\" >minmax</td>\n",
       "    </tr>\n",
       "    <tr>\n",
       "      <th id=\"T_37fce_level0_row18\" class=\"row_heading level0 row18\" >18</th>\n",
       "      <td id=\"T_37fce_row18_col0\" class=\"data row18 col0\" >Feature selection</td>\n",
       "      <td id=\"T_37fce_row18_col1\" class=\"data row18 col1\" >True</td>\n",
       "    </tr>\n",
       "    <tr>\n",
       "      <th id=\"T_37fce_level0_row19\" class=\"row_heading level0 row19\" >19</th>\n",
       "      <td id=\"T_37fce_row19_col0\" class=\"data row19 col0\" >Feature selection method</td>\n",
       "      <td id=\"T_37fce_row19_col1\" class=\"data row19 col1\" >univariate</td>\n",
       "    </tr>\n",
       "    <tr>\n",
       "      <th id=\"T_37fce_level0_row20\" class=\"row_heading level0 row20\" >20</th>\n",
       "      <td id=\"T_37fce_row20_col0\" class=\"data row20 col0\" >Feature selection estimator</td>\n",
       "      <td id=\"T_37fce_row20_col1\" class=\"data row20 col1\" >lightgbm</td>\n",
       "    </tr>\n",
       "    <tr>\n",
       "      <th id=\"T_37fce_level0_row21\" class=\"row_heading level0 row21\" >21</th>\n",
       "      <td id=\"T_37fce_row21_col0\" class=\"data row21 col0\" >Number of features selected</td>\n",
       "      <td id=\"T_37fce_row21_col1\" class=\"data row21 col1\" >0.250000</td>\n",
       "    </tr>\n",
       "    <tr>\n",
       "      <th id=\"T_37fce_level0_row22\" class=\"row_heading level0 row22\" >22</th>\n",
       "      <td id=\"T_37fce_row22_col0\" class=\"data row22 col0\" >Fold Generator</td>\n",
       "      <td id=\"T_37fce_row22_col1\" class=\"data row22 col1\" >StratifiedKFold</td>\n",
       "    </tr>\n",
       "    <tr>\n",
       "      <th id=\"T_37fce_level0_row23\" class=\"row_heading level0 row23\" >23</th>\n",
       "      <td id=\"T_37fce_row23_col0\" class=\"data row23 col0\" >Fold Number</td>\n",
       "      <td id=\"T_37fce_row23_col1\" class=\"data row23 col1\" >10</td>\n",
       "    </tr>\n",
       "    <tr>\n",
       "      <th id=\"T_37fce_level0_row24\" class=\"row_heading level0 row24\" >24</th>\n",
       "      <td id=\"T_37fce_row24_col0\" class=\"data row24 col0\" >CPU Jobs</td>\n",
       "      <td id=\"T_37fce_row24_col1\" class=\"data row24 col1\" >-1</td>\n",
       "    </tr>\n",
       "    <tr>\n",
       "      <th id=\"T_37fce_level0_row25\" class=\"row_heading level0 row25\" >25</th>\n",
       "      <td id=\"T_37fce_row25_col0\" class=\"data row25 col0\" >Use GPU</td>\n",
       "      <td id=\"T_37fce_row25_col1\" class=\"data row25 col1\" >False</td>\n",
       "    </tr>\n",
       "    <tr>\n",
       "      <th id=\"T_37fce_level0_row26\" class=\"row_heading level0 row26\" >26</th>\n",
       "      <td id=\"T_37fce_row26_col0\" class=\"data row26 col0\" >Log Experiment</td>\n",
       "      <td id=\"T_37fce_row26_col1\" class=\"data row26 col1\" >False</td>\n",
       "    </tr>\n",
       "    <tr>\n",
       "      <th id=\"T_37fce_level0_row27\" class=\"row_heading level0 row27\" >27</th>\n",
       "      <td id=\"T_37fce_row27_col0\" class=\"data row27 col0\" >Experiment Name</td>\n",
       "      <td id=\"T_37fce_row27_col1\" class=\"data row27 col1\" >clf-default-name</td>\n",
       "    </tr>\n",
       "    <tr>\n",
       "      <th id=\"T_37fce_level0_row28\" class=\"row_heading level0 row28\" >28</th>\n",
       "      <td id=\"T_37fce_row28_col0\" class=\"data row28 col0\" >USI</td>\n",
       "      <td id=\"T_37fce_row28_col1\" class=\"data row28 col1\" >99b1</td>\n",
       "    </tr>\n",
       "  </tbody>\n",
       "</table>\n"
      ],
      "text/plain": [
       "<pandas.io.formats.style.Styler at 0x3034241c0>"
      ]
     },
     "metadata": {},
     "output_type": "display_data"
    },
    {
     "data": {
      "text/html": [],
      "text/plain": [
       "<IPython.core.display.HTML object>"
      ]
     },
     "metadata": {},
     "output_type": "display_data"
    },
    {
     "data": {
      "text/html": [
       "<style type=\"text/css\">\n",
       "#T_5e8b0 th {\n",
       "  text-align: left;\n",
       "}\n",
       "#T_5e8b0_row0_col0, #T_5e8b0_row0_col1, #T_5e8b0_row0_col2, #T_5e8b0_row0_col3, #T_5e8b0_row0_col4, #T_5e8b0_row0_col6, #T_5e8b0_row1_col0, #T_5e8b0_row1_col1, #T_5e8b0_row1_col2, #T_5e8b0_row1_col3, #T_5e8b0_row1_col5, #T_5e8b0_row1_col7, #T_5e8b0_row2_col0, #T_5e8b0_row2_col1, #T_5e8b0_row2_col3, #T_5e8b0_row2_col4, #T_5e8b0_row2_col5, #T_5e8b0_row2_col6, #T_5e8b0_row2_col7, #T_5e8b0_row3_col0, #T_5e8b0_row3_col1, #T_5e8b0_row3_col2, #T_5e8b0_row3_col3, #T_5e8b0_row3_col4, #T_5e8b0_row3_col5, #T_5e8b0_row3_col6, #T_5e8b0_row3_col7, #T_5e8b0_row4_col0, #T_5e8b0_row4_col1, #T_5e8b0_row4_col2, #T_5e8b0_row4_col3, #T_5e8b0_row4_col4, #T_5e8b0_row4_col5, #T_5e8b0_row4_col6, #T_5e8b0_row4_col7, #T_5e8b0_row5_col0, #T_5e8b0_row5_col1, #T_5e8b0_row5_col2, #T_5e8b0_row5_col3, #T_5e8b0_row5_col4, #T_5e8b0_row5_col5, #T_5e8b0_row5_col6, #T_5e8b0_row5_col7, #T_5e8b0_row6_col0, #T_5e8b0_row6_col1, #T_5e8b0_row6_col2, #T_5e8b0_row6_col3, #T_5e8b0_row6_col4, #T_5e8b0_row6_col5, #T_5e8b0_row6_col6, #T_5e8b0_row6_col7, #T_5e8b0_row7_col0, #T_5e8b0_row7_col1, #T_5e8b0_row7_col2, #T_5e8b0_row7_col3, #T_5e8b0_row7_col4, #T_5e8b0_row7_col5, #T_5e8b0_row7_col6, #T_5e8b0_row7_col7, #T_5e8b0_row8_col0, #T_5e8b0_row8_col1, #T_5e8b0_row8_col2, #T_5e8b0_row8_col3, #T_5e8b0_row8_col4, #T_5e8b0_row8_col5, #T_5e8b0_row8_col6, #T_5e8b0_row8_col7, #T_5e8b0_row9_col0, #T_5e8b0_row9_col1, #T_5e8b0_row9_col2, #T_5e8b0_row9_col3, #T_5e8b0_row9_col4, #T_5e8b0_row9_col5, #T_5e8b0_row9_col6, #T_5e8b0_row9_col7, #T_5e8b0_row10_col0, #T_5e8b0_row10_col1, #T_5e8b0_row10_col2, #T_5e8b0_row10_col4, #T_5e8b0_row10_col5, #T_5e8b0_row10_col6, #T_5e8b0_row10_col7, #T_5e8b0_row11_col0, #T_5e8b0_row11_col1, #T_5e8b0_row11_col2, #T_5e8b0_row11_col4, #T_5e8b0_row11_col5, #T_5e8b0_row11_col6, #T_5e8b0_row11_col7, #T_5e8b0_row12_col0, #T_5e8b0_row12_col2, #T_5e8b0_row12_col3, #T_5e8b0_row12_col4, #T_5e8b0_row12_col5, #T_5e8b0_row12_col6, #T_5e8b0_row12_col7, #T_5e8b0_row13_col0, #T_5e8b0_row13_col2, #T_5e8b0_row13_col3, #T_5e8b0_row13_col4, #T_5e8b0_row13_col5, #T_5e8b0_row13_col6, #T_5e8b0_row13_col7 {\n",
       "  text-align: left;\n",
       "}\n",
       "#T_5e8b0_row0_col5, #T_5e8b0_row0_col7, #T_5e8b0_row1_col4, #T_5e8b0_row1_col6, #T_5e8b0_row2_col2, #T_5e8b0_row10_col3, #T_5e8b0_row11_col3, #T_5e8b0_row12_col1, #T_5e8b0_row13_col1 {\n",
       "  text-align: left;\n",
       "  background-color: yellow;\n",
       "}\n",
       "#T_5e8b0_row0_col8, #T_5e8b0_row2_col8, #T_5e8b0_row3_col8, #T_5e8b0_row4_col8, #T_5e8b0_row5_col8, #T_5e8b0_row6_col8, #T_5e8b0_row7_col8, #T_5e8b0_row8_col8, #T_5e8b0_row9_col8, #T_5e8b0_row10_col8, #T_5e8b0_row11_col8, #T_5e8b0_row12_col8, #T_5e8b0_row13_col8 {\n",
       "  text-align: left;\n",
       "  background-color: lightgrey;\n",
       "}\n",
       "#T_5e8b0_row1_col8 {\n",
       "  text-align: left;\n",
       "  background-color: yellow;\n",
       "  background-color: lightgrey;\n",
       "}\n",
       "</style>\n",
       "<table id=\"T_5e8b0\">\n",
       "  <thead>\n",
       "    <tr>\n",
       "      <th class=\"blank level0\" >&nbsp;</th>\n",
       "      <th id=\"T_5e8b0_level0_col0\" class=\"col_heading level0 col0\" >Model</th>\n",
       "      <th id=\"T_5e8b0_level0_col1\" class=\"col_heading level0 col1\" >Accuracy</th>\n",
       "      <th id=\"T_5e8b0_level0_col2\" class=\"col_heading level0 col2\" >AUC</th>\n",
       "      <th id=\"T_5e8b0_level0_col3\" class=\"col_heading level0 col3\" >Recall</th>\n",
       "      <th id=\"T_5e8b0_level0_col4\" class=\"col_heading level0 col4\" >Prec.</th>\n",
       "      <th id=\"T_5e8b0_level0_col5\" class=\"col_heading level0 col5\" >F1</th>\n",
       "      <th id=\"T_5e8b0_level0_col6\" class=\"col_heading level0 col6\" >Kappa</th>\n",
       "      <th id=\"T_5e8b0_level0_col7\" class=\"col_heading level0 col7\" >MCC</th>\n",
       "      <th id=\"T_5e8b0_level0_col8\" class=\"col_heading level0 col8\" >TT (Sec)</th>\n",
       "    </tr>\n",
       "  </thead>\n",
       "  <tbody>\n",
       "    <tr>\n",
       "      <th id=\"T_5e8b0_level0_row0\" class=\"row_heading level0 row0\" >nb</th>\n",
       "      <td id=\"T_5e8b0_row0_col0\" class=\"data row0 col0\" >Naive Bayes</td>\n",
       "      <td id=\"T_5e8b0_row0_col1\" class=\"data row0 col1\" >0.3808</td>\n",
       "      <td id=\"T_5e8b0_row0_col2\" class=\"data row0 col2\" >0.6073</td>\n",
       "      <td id=\"T_5e8b0_row0_col3\" class=\"data row0 col3\" >0.7941</td>\n",
       "      <td id=\"T_5e8b0_row0_col4\" class=\"data row0 col4\" >0.1306</td>\n",
       "      <td id=\"T_5e8b0_row0_col5\" class=\"data row0 col5\" >0.2243</td>\n",
       "      <td id=\"T_5e8b0_row0_col6\" class=\"data row0 col6\" >0.0381</td>\n",
       "      <td id=\"T_5e8b0_row0_col7\" class=\"data row0 col7\" >0.0835</td>\n",
       "      <td id=\"T_5e8b0_row0_col8\" class=\"data row0 col8\" >1.0970</td>\n",
       "    </tr>\n",
       "    <tr>\n",
       "      <th id=\"T_5e8b0_level0_row1\" class=\"row_heading level0 row1\" >knn</th>\n",
       "      <td id=\"T_5e8b0_row1_col0\" class=\"data row1 col0\" >K Neighbors Classifier</td>\n",
       "      <td id=\"T_5e8b0_row1_col1\" class=\"data row1 col1\" >0.5747</td>\n",
       "      <td id=\"T_5e8b0_row1_col2\" class=\"data row1 col2\" >0.5602</td>\n",
       "      <td id=\"T_5e8b0_row1_col3\" class=\"data row1 col3\" >0.5422</td>\n",
       "      <td id=\"T_5e8b0_row1_col4\" class=\"data row1 col4\" >0.1405</td>\n",
       "      <td id=\"T_5e8b0_row1_col5\" class=\"data row1 col5\" >0.2229</td>\n",
       "      <td id=\"T_5e8b0_row1_col6\" class=\"data row1 col6\" >0.0537</td>\n",
       "      <td id=\"T_5e8b0_row1_col7\" class=\"data row1 col7\" >0.0773</td>\n",
       "      <td id=\"T_5e8b0_row1_col8\" class=\"data row1 col8\" >1.0740</td>\n",
       "    </tr>\n",
       "    <tr>\n",
       "      <th id=\"T_5e8b0_level0_row2\" class=\"row_heading level0 row2\" >lr</th>\n",
       "      <td id=\"T_5e8b0_row2_col0\" class=\"data row2 col0\" >Logistic Regression</td>\n",
       "      <td id=\"T_5e8b0_row2_col1\" class=\"data row2 col1\" >0.2728</td>\n",
       "      <td id=\"T_5e8b0_row2_col2\" class=\"data row2 col2\" >0.6121</td>\n",
       "      <td id=\"T_5e8b0_row2_col3\" class=\"data row2 col3\" >0.9057</td>\n",
       "      <td id=\"T_5e8b0_row2_col4\" class=\"data row2 col4\" >0.1248</td>\n",
       "      <td id=\"T_5e8b0_row2_col5\" class=\"data row2 col5\" >0.2193</td>\n",
       "      <td id=\"T_5e8b0_row2_col6\" class=\"data row2 col6\" >0.0263</td>\n",
       "      <td id=\"T_5e8b0_row2_col7\" class=\"data row2 col7\" >0.0805</td>\n",
       "      <td id=\"T_5e8b0_row2_col8\" class=\"data row2 col8\" >1.3910</td>\n",
       "    </tr>\n",
       "    <tr>\n",
       "      <th id=\"T_5e8b0_level0_row3\" class=\"row_heading level0 row3\" >rf</th>\n",
       "      <td id=\"T_5e8b0_row3_col0\" class=\"data row3 col0\" >Random Forest Classifier</td>\n",
       "      <td id=\"T_5e8b0_row3_col1\" class=\"data row3 col1\" >0.3701</td>\n",
       "      <td id=\"T_5e8b0_row3_col2\" class=\"data row3 col2\" >0.5874</td>\n",
       "      <td id=\"T_5e8b0_row3_col3\" class=\"data row3 col3\" >0.7818</td>\n",
       "      <td id=\"T_5e8b0_row3_col4\" class=\"data row3 col4\" >0.1272</td>\n",
       "      <td id=\"T_5e8b0_row3_col5\" class=\"data row3 col5\" >0.2188</td>\n",
       "      <td id=\"T_5e8b0_row3_col6\" class=\"data row3 col6\" >0.0308</td>\n",
       "      <td id=\"T_5e8b0_row3_col7\" class=\"data row3 col7\" >0.0683</td>\n",
       "      <td id=\"T_5e8b0_row3_col8\" class=\"data row3 col8\" >1.3780</td>\n",
       "    </tr>\n",
       "    <tr>\n",
       "      <th id=\"T_5e8b0_level0_row4\" class=\"row_heading level0 row4\" >qda</th>\n",
       "      <td id=\"T_5e8b0_row4_col0\" class=\"data row4 col0\" >Quadratic Discriminant Analysis</td>\n",
       "      <td id=\"T_5e8b0_row4_col1\" class=\"data row4 col1\" >0.2825</td>\n",
       "      <td id=\"T_5e8b0_row4_col2\" class=\"data row4 col2\" >0.6069</td>\n",
       "      <td id=\"T_5e8b0_row4_col3\" class=\"data row4 col3\" >0.8883</td>\n",
       "      <td id=\"T_5e8b0_row4_col4\" class=\"data row4 col4\" >0.1244</td>\n",
       "      <td id=\"T_5e8b0_row4_col5\" class=\"data row4 col5\" >0.2182</td>\n",
       "      <td id=\"T_5e8b0_row4_col6\" class=\"data row4 col6\" >0.0255</td>\n",
       "      <td id=\"T_5e8b0_row4_col7\" class=\"data row4 col7\" >0.0754</td>\n",
       "      <td id=\"T_5e8b0_row4_col8\" class=\"data row4 col8\" >1.2680</td>\n",
       "    </tr>\n",
       "    <tr>\n",
       "      <th id=\"T_5e8b0_level0_row5\" class=\"row_heading level0 row5\" >et</th>\n",
       "      <td id=\"T_5e8b0_row5_col0\" class=\"data row5 col0\" >Extra Trees Classifier</td>\n",
       "      <td id=\"T_5e8b0_row5_col1\" class=\"data row5 col1\" >0.3742</td>\n",
       "      <td id=\"T_5e8b0_row5_col2\" class=\"data row5 col2\" >0.5860</td>\n",
       "      <td id=\"T_5e8b0_row5_col3\" class=\"data row5 col3\" >0.7726</td>\n",
       "      <td id=\"T_5e8b0_row5_col4\" class=\"data row5 col4\" >0.1268</td>\n",
       "      <td id=\"T_5e8b0_row5_col5\" class=\"data row5 col5\" >0.2178</td>\n",
       "      <td id=\"T_5e8b0_row5_col6\" class=\"data row5 col6\" >0.0299</td>\n",
       "      <td id=\"T_5e8b0_row5_col7\" class=\"data row5 col7\" >0.0658</td>\n",
       "      <td id=\"T_5e8b0_row5_col8\" class=\"data row5 col8\" >1.2980</td>\n",
       "    </tr>\n",
       "    <tr>\n",
       "      <th id=\"T_5e8b0_level0_row6\" class=\"row_heading level0 row6\" >lightgbm</th>\n",
       "      <td id=\"T_5e8b0_row6_col0\" class=\"data row6 col0\" >Light Gradient Boosting Machine</td>\n",
       "      <td id=\"T_5e8b0_row6_col1\" class=\"data row6 col1\" >0.3380</td>\n",
       "      <td id=\"T_5e8b0_row6_col2\" class=\"data row6 col2\" >0.5963</td>\n",
       "      <td id=\"T_5e8b0_row6_col3\" class=\"data row6 col3\" >0.8166</td>\n",
       "      <td id=\"T_5e8b0_row6_col4\" class=\"data row6 col4\" >0.1256</td>\n",
       "      <td id=\"T_5e8b0_row6_col5\" class=\"data row6 col5\" >0.2177</td>\n",
       "      <td id=\"T_5e8b0_row6_col6\" class=\"data row6 col6\" >0.0276</td>\n",
       "      <td id=\"T_5e8b0_row6_col7\" class=\"data row6 col7\" >0.0672</td>\n",
       "      <td id=\"T_5e8b0_row6_col8\" class=\"data row6 col8\" >1.4820</td>\n",
       "    </tr>\n",
       "    <tr>\n",
       "      <th id=\"T_5e8b0_level0_row7\" class=\"row_heading level0 row7\" >dt</th>\n",
       "      <td id=\"T_5e8b0_row7_col0\" class=\"data row7 col0\" >Decision Tree Classifier</td>\n",
       "      <td id=\"T_5e8b0_row7_col1\" class=\"data row7 col1\" >0.3734</td>\n",
       "      <td id=\"T_5e8b0_row7_col2\" class=\"data row7 col2\" >0.5839</td>\n",
       "      <td id=\"T_5e8b0_row7_col3\" class=\"data row7 col3\" >0.7716</td>\n",
       "      <td id=\"T_5e8b0_row7_col4\" class=\"data row7 col4\" >0.1265</td>\n",
       "      <td id=\"T_5e8b0_row7_col5\" class=\"data row7 col5\" >0.2173</td>\n",
       "      <td id=\"T_5e8b0_row7_col6\" class=\"data row7 col6\" >0.0293</td>\n",
       "      <td id=\"T_5e8b0_row7_col7\" class=\"data row7 col7\" >0.0646</td>\n",
       "      <td id=\"T_5e8b0_row7_col8\" class=\"data row7 col8\" >1.1520</td>\n",
       "    </tr>\n",
       "    <tr>\n",
       "      <th id=\"T_5e8b0_level0_row8\" class=\"row_heading level0 row8\" >lda</th>\n",
       "      <td id=\"T_5e8b0_row8_col0\" class=\"data row8 col0\" >Linear Discriminant Analysis</td>\n",
       "      <td id=\"T_5e8b0_row8_col1\" class=\"data row8 col1\" >0.2576</td>\n",
       "      <td id=\"T_5e8b0_row8_col2\" class=\"data row8 col2\" >0.6100</td>\n",
       "      <td id=\"T_5e8b0_row8_col3\" class=\"data row8 col3\" >0.9129</td>\n",
       "      <td id=\"T_5e8b0_row8_col4\" class=\"data row8 col4\" >0.1232</td>\n",
       "      <td id=\"T_5e8b0_row8_col5\" class=\"data row8 col5\" >0.2171</td>\n",
       "      <td id=\"T_5e8b0_row8_col6\" class=\"data row8 col6\" >0.0230</td>\n",
       "      <td id=\"T_5e8b0_row8_col7\" class=\"data row8 col7\" >0.0743</td>\n",
       "      <td id=\"T_5e8b0_row8_col8\" class=\"data row8 col8\" >1.2410</td>\n",
       "    </tr>\n",
       "    <tr>\n",
       "      <th id=\"T_5e8b0_level0_row9\" class=\"row_heading level0 row9\" >gbc</th>\n",
       "      <td id=\"T_5e8b0_row9_col0\" class=\"data row9 col0\" >Gradient Boosting Classifier</td>\n",
       "      <td id=\"T_5e8b0_row9_col1\" class=\"data row9 col1\" >0.2818</td>\n",
       "      <td id=\"T_5e8b0_row9_col2\" class=\"data row9 col2\" >0.6046</td>\n",
       "      <td id=\"T_5e8b0_row9_col3\" class=\"data row9 col3\" >0.8812</td>\n",
       "      <td id=\"T_5e8b0_row9_col4\" class=\"data row9 col4\" >0.1235</td>\n",
       "      <td id=\"T_5e8b0_row9_col5\" class=\"data row9 col5\" >0.2166</td>\n",
       "      <td id=\"T_5e8b0_row9_col6\" class=\"data row9 col6\" >0.0235</td>\n",
       "      <td id=\"T_5e8b0_row9_col7\" class=\"data row9 col7\" >0.0701</td>\n",
       "      <td id=\"T_5e8b0_row9_col8\" class=\"data row9 col8\" >1.2820</td>\n",
       "    </tr>\n",
       "    <tr>\n",
       "      <th id=\"T_5e8b0_level0_row10\" class=\"row_heading level0 row10\" >ada</th>\n",
       "      <td id=\"T_5e8b0_row10_col0\" class=\"data row10 col0\" >Ada Boost Classifier</td>\n",
       "      <td id=\"T_5e8b0_row10_col1\" class=\"data row10 col1\" >0.1128</td>\n",
       "      <td id=\"T_5e8b0_row10_col2\" class=\"data row10 col2\" >0.6104</td>\n",
       "      <td id=\"T_5e8b0_row10_col3\" class=\"data row10 col3\" >1.0000</td>\n",
       "      <td id=\"T_5e8b0_row10_col4\" class=\"data row10 col4\" >0.1128</td>\n",
       "      <td id=\"T_5e8b0_row10_col5\" class=\"data row10 col5\" >0.2027</td>\n",
       "      <td id=\"T_5e8b0_row10_col6\" class=\"data row10 col6\" >0.0000</td>\n",
       "      <td id=\"T_5e8b0_row10_col7\" class=\"data row10 col7\" >0.0000</td>\n",
       "      <td id=\"T_5e8b0_row10_col8\" class=\"data row10 col8\" >1.2620</td>\n",
       "    </tr>\n",
       "    <tr>\n",
       "      <th id=\"T_5e8b0_level0_row11\" class=\"row_heading level0 row11\" >dummy</th>\n",
       "      <td id=\"T_5e8b0_row11_col0\" class=\"data row11 col0\" >Dummy Classifier</td>\n",
       "      <td id=\"T_5e8b0_row11_col1\" class=\"data row11 col1\" >0.1128</td>\n",
       "      <td id=\"T_5e8b0_row11_col2\" class=\"data row11 col2\" >0.5000</td>\n",
       "      <td id=\"T_5e8b0_row11_col3\" class=\"data row11 col3\" >1.0000</td>\n",
       "      <td id=\"T_5e8b0_row11_col4\" class=\"data row11 col4\" >0.1128</td>\n",
       "      <td id=\"T_5e8b0_row11_col5\" class=\"data row11 col5\" >0.2027</td>\n",
       "      <td id=\"T_5e8b0_row11_col6\" class=\"data row11 col6\" >0.0000</td>\n",
       "      <td id=\"T_5e8b0_row11_col7\" class=\"data row11 col7\" >0.0000</td>\n",
       "      <td id=\"T_5e8b0_row11_col8\" class=\"data row11 col8\" >1.2530</td>\n",
       "    </tr>\n",
       "    <tr>\n",
       "      <th id=\"T_5e8b0_level0_row12\" class=\"row_heading level0 row12\" >svm</th>\n",
       "      <td id=\"T_5e8b0_row12_col0\" class=\"data row12 col0\" >SVM - Linear Kernel</td>\n",
       "      <td id=\"T_5e8b0_row12_col1\" class=\"data row12 col1\" >0.8872</td>\n",
       "      <td id=\"T_5e8b0_row12_col2\" class=\"data row12 col2\" >0.5303</td>\n",
       "      <td id=\"T_5e8b0_row12_col3\" class=\"data row12 col3\" >0.0000</td>\n",
       "      <td id=\"T_5e8b0_row12_col4\" class=\"data row12 col4\" >0.0000</td>\n",
       "      <td id=\"T_5e8b0_row12_col5\" class=\"data row12 col5\" >0.0000</td>\n",
       "      <td id=\"T_5e8b0_row12_col6\" class=\"data row12 col6\" >0.0000</td>\n",
       "      <td id=\"T_5e8b0_row12_col7\" class=\"data row12 col7\" >0.0000</td>\n",
       "      <td id=\"T_5e8b0_row12_col8\" class=\"data row12 col8\" >1.1690</td>\n",
       "    </tr>\n",
       "    <tr>\n",
       "      <th id=\"T_5e8b0_level0_row13\" class=\"row_heading level0 row13\" >ridge</th>\n",
       "      <td id=\"T_5e8b0_row13_col0\" class=\"data row13 col0\" >Ridge Classifier</td>\n",
       "      <td id=\"T_5e8b0_row13_col1\" class=\"data row13 col1\" >0.8872</td>\n",
       "      <td id=\"T_5e8b0_row13_col2\" class=\"data row13 col2\" >0.6100</td>\n",
       "      <td id=\"T_5e8b0_row13_col3\" class=\"data row13 col3\" >0.0000</td>\n",
       "      <td id=\"T_5e8b0_row13_col4\" class=\"data row13 col4\" >0.0000</td>\n",
       "      <td id=\"T_5e8b0_row13_col5\" class=\"data row13 col5\" >0.0000</td>\n",
       "      <td id=\"T_5e8b0_row13_col6\" class=\"data row13 col6\" >0.0000</td>\n",
       "      <td id=\"T_5e8b0_row13_col7\" class=\"data row13 col7\" >0.0000</td>\n",
       "      <td id=\"T_5e8b0_row13_col8\" class=\"data row13 col8\" >1.1830</td>\n",
       "    </tr>\n",
       "  </tbody>\n",
       "</table>\n"
      ],
      "text/plain": [
       "<pandas.io.formats.style.Styler at 0x301b311f0>"
      ]
     },
     "metadata": {},
     "output_type": "display_data"
    },
    {
     "data": {
      "text/html": [],
      "text/plain": [
       "<IPython.core.display.HTML object>"
      ]
     },
     "metadata": {},
     "output_type": "display_data"
    },
    {
     "data": {
      "text/html": [],
      "text/plain": [
       "<IPython.core.display.HTML object>"
      ]
     },
     "metadata": {},
     "output_type": "display_data"
    },
    {
     "data": {
      "text/html": [
       "<style type=\"text/css\">\n",
       "</style>\n",
       "<table id=\"T_b7886\">\n",
       "  <thead>\n",
       "    <tr>\n",
       "      <th class=\"blank level0\" >&nbsp;</th>\n",
       "      <th id=\"T_b7886_level0_col0\" class=\"col_heading level0 col0\" >Accuracy</th>\n",
       "      <th id=\"T_b7886_level0_col1\" class=\"col_heading level0 col1\" >AUC</th>\n",
       "      <th id=\"T_b7886_level0_col2\" class=\"col_heading level0 col2\" >Recall</th>\n",
       "      <th id=\"T_b7886_level0_col3\" class=\"col_heading level0 col3\" >Prec.</th>\n",
       "      <th id=\"T_b7886_level0_col4\" class=\"col_heading level0 col4\" >F1</th>\n",
       "      <th id=\"T_b7886_level0_col5\" class=\"col_heading level0 col5\" >Kappa</th>\n",
       "      <th id=\"T_b7886_level0_col6\" class=\"col_heading level0 col6\" >MCC</th>\n",
       "    </tr>\n",
       "  </thead>\n",
       "  <tbody>\n",
       "    <tr>\n",
       "      <th id=\"T_b7886_level0_row0\" class=\"row_heading level0 row0\" >Test</th>\n",
       "      <td id=\"T_b7886_row0_col0\" class=\"data row0 col0\" >0.2709</td>\n",
       "      <td id=\"T_b7886_row0_col1\" class=\"data row0 col1\" >0.5853</td>\n",
       "      <td id=\"T_b7886_row0_col2\" class=\"data row0 col2\" >0.8995</td>\n",
       "      <td id=\"T_b7886_row0_col3\" class=\"data row0 col3\" >0.1237</td>\n",
       "      <td id=\"T_b7886_row0_col4\" class=\"data row0 col4\" >0.2175</td>\n",
       "      <td id=\"T_b7886_row0_col5\" class=\"data row0 col5\" >0.0242</td>\n",
       "      <td id=\"T_b7886_row0_col6\" class=\"data row0 col6\" >0.0744</td>\n",
       "    </tr>\n",
       "  </tbody>\n",
       "</table>\n"
      ],
      "text/plain": [
       "<pandas.io.formats.style.Styler at 0x30337bc70>"
      ]
     },
     "metadata": {},
     "output_type": "display_data"
    },
    {
     "data": {
      "text/html": [],
      "text/plain": [
       "<IPython.core.display.HTML object>"
      ]
     },
     "metadata": {},
     "output_type": "display_data"
    }
   ],
   "source": [
    "\n",
    "train = classifyExp.setup(df_filtered,target = 'SalesCount',ignore_features = [\"Id\",\"1-Beratung?\",\"1-Welches befristete AR haben Sie?\",\"1-Test Sprache\",\"Zeitpunkt der Erstellung\",\"Sales\",\"Zeitpunkt der nderung\",\"Zeitpunkt der Erstellung - Year\",\"Zeitpunkt der nderung - Year\"],train_size=0.7,preprocess=True,max_encoding_ohe=1,encoding_method=encoder,normalize=True,normalize_method='minmax',feature_selection=True,feature_selection_method=\"univariate\",n_features_to_select=0.25)\n",
    "train.get_config(\"train\")\n",
    "init_model = train.compare_models(sort='F1',cross_validation=True,probability_threshold=0.075)\n",
    "model = train.create_model('qda',cross_validation=False,probability_threshold=0.075)\n",
    "dfCopy = df.copy()"
   ]
  },
  {
   "cell_type": "code",
   "execution_count": 33,
   "metadata": {},
   "outputs": [
    {
     "data": {
      "text/html": [
       "<style type=\"text/css\">\n",
       "</style>\n",
       "<table id=\"T_534a4\">\n",
       "  <thead>\n",
       "    <tr>\n",
       "      <th class=\"blank level0\" >&nbsp;</th>\n",
       "      <th id=\"T_534a4_level0_col0\" class=\"col_heading level0 col0\" >Model</th>\n",
       "      <th id=\"T_534a4_level0_col1\" class=\"col_heading level0 col1\" >Accuracy</th>\n",
       "      <th id=\"T_534a4_level0_col2\" class=\"col_heading level0 col2\" >AUC</th>\n",
       "      <th id=\"T_534a4_level0_col3\" class=\"col_heading level0 col3\" >Recall</th>\n",
       "      <th id=\"T_534a4_level0_col4\" class=\"col_heading level0 col4\" >Prec.</th>\n",
       "      <th id=\"T_534a4_level0_col5\" class=\"col_heading level0 col5\" >F1</th>\n",
       "      <th id=\"T_534a4_level0_col6\" class=\"col_heading level0 col6\" >Kappa</th>\n",
       "      <th id=\"T_534a4_level0_col7\" class=\"col_heading level0 col7\" >MCC</th>\n",
       "    </tr>\n",
       "  </thead>\n",
       "  <tbody>\n",
       "    <tr>\n",
       "      <th id=\"T_534a4_level0_row0\" class=\"row_heading level0 row0\" >0</th>\n",
       "      <td id=\"T_534a4_row0_col0\" class=\"data row0 col0\" >Quadratic Discriminant Analysis</td>\n",
       "      <td id=\"T_534a4_row0_col1\" class=\"data row0 col1\" >0.2459</td>\n",
       "      <td id=\"T_534a4_row0_col2\" class=\"data row0 col2\" >0.5987</td>\n",
       "      <td id=\"T_534a4_row0_col3\" class=\"data row0 col3\" >0.9034</td>\n",
       "      <td id=\"T_534a4_row0_col4\" class=\"data row0 col4\" >0.0667</td>\n",
       "      <td id=\"T_534a4_row0_col5\" class=\"data row0 col5\" >0.1242</td>\n",
       "      <td id=\"T_534a4_row0_col6\" class=\"data row0 col6\" >0.0157</td>\n",
       "      <td id=\"T_534a4_row0_col7\" class=\"data row0 col7\" >0.0639</td>\n",
       "    </tr>\n",
       "  </tbody>\n",
       "</table>\n"
      ],
      "text/plain": [
       "<pandas.io.formats.style.Styler at 0x30329ec40>"
      ]
     },
     "metadata": {},
     "output_type": "display_data"
    },
    {
     "name": "stdout",
     "output_type": "stream",
     "text": [
      "Uploading 'leadScore': 100%|██████████| 1.04k/1.04k [00:01<00:00, 945B/s]\n",
      "Updating registry: 100%|██████████| 1/1 [00:01<00:00]\n"
     ]
    },
    {
     "data": {
      "text/html": [
       "<div style=\"margin: 0; padding: 5px; line-height: 1.75; font-size: 14px; vertical-align: baseline; list-style: none; font-family: Roboto, Arial, sans-serif; background: none;\">\n",
       "  Success: 1 model added to the registry.\n",
       "</div>"
      ],
      "text/plain": [
       "<IPython.core.display.HTML object>"
      ]
     },
     "metadata": {},
     "output_type": "display_data"
    }
   ],
   "source": [
    "train.predict_model(model,data=dfCopy)\n",
    "finalAlpha = train.finalize_model(model)\n",
    "md.add_model(\"leadScore\",model)"
   ]
  },
  {
   "cell_type": "code",
   "execution_count": 41,
   "metadata": {},
   "outputs": [
    {
     "name": "stdout",
     "output_type": "stream",
     "text": [
      "{'predicted_class': array([1]), 'probability': array([[0.88380429, 0.11619571]])}\n"
     ]
    },
    {
     "data": {
      "text/html": [
       "<div style=\"margin: 0; padding: 5px; line-height: 1.75; font-size: 14px; vertical-align: baseline; list-style: none; font-family: Roboto, Arial, sans-serif; background: none;\">\n",
       "  <div>\n",
       "    <span style=\"margin: 0; padding: 0; line-height: 1.75; font-size: 14px; vertical-align: baseline; list-style: none; font-family: Roboto, Arial, sans-serif; background: none; font-weight: bold; color: #15803d;\">Deploying </span> <span style=\"margin: 0; padding: 3px; line-height: 1.75; font-size: 13px; vertical-align: baseline; list-style: none; font-family: monospace; background: none; font-weight: 400; background-color: rgba(209, 213, 219, 0.2);\">get_prediction</span>\n",
       "  </div>\n",
       "  \n",
       "\n",
       "  <div style=\"margin: 0; padding: 0; line-height: 1.75; font-size: 14px; vertical-align: baseline; list-style: none; font-family: Roboto, Arial, sans-serif; background: none;\">Uploading dependencies...</div>\n",
       "</div>"
      ],
      "text/plain": [
       "<IPython.core.display.HTML object>"
      ]
     },
     "metadata": {},
     "output_type": "display_data"
    },
    {
     "data": {
      "text/html": [
       "<div style=\"margin: 0; padding: 5px; line-height: 1.75; font-size: 14px; vertical-align: baseline; list-style: none; font-family: Roboto, Arial, sans-serif; background: none;\">\n",
       "  <div style=\"margin: 0; padding: 0; line-height: 1.75; font-size: 14px; vertical-align: baseline; list-style: none; font-family: Roboto, Arial, sans-serif; background: none; font-weight: bold; color: #15803d;\">Success!</div>\n",
       "  \n",
       "    <div style=\"margin: 0; padding: 0; line-height: 1.75; font-size: 14px; vertical-align: baseline; list-style: none; font-family: Roboto, Arial, sans-serif; background: none;\">\n",
       "      Deployment <span style=\"margin: 0; padding: 3px; line-height: 1.75; font-size: 13px; vertical-align: baseline; list-style: none; font-family: monospace; background: none; font-weight: 400; background-color: rgba(209, 213, 219, 0.2);\">get_prediction</span>\n",
       "      will be ready in  a couple minutes.\n",
       "    </div>\n",
       "  \n",
       "\n",
       "  <a href=\"https://app.modelbit.com/w/hassanbutt/main/deployments/get_prediction/apis\" target=\"_blank\" style=\"display: inline-block; margin-top: 12px;\" >\n",
       "    <div\n",
       "      style=\"display: inline-block; background-color: #845B99; border-radius: 0.375rem; color: white; cursor: pointer; font-size: 14px; font-weight: 700; padding: 8px 16px;\"\n",
       "      onmouseenter=\"this.style.background='#714488'\"\n",
       "      onmouseleave=\"this.style.background='#845B99'\"\n",
       "    >\n",
       "      View in Modelbit\n",
       "    </div>\n",
       "  </a>\n",
       "</div>"
      ],
      "text/plain": [
       "<IPython.core.display.HTML object>"
      ]
     },
     "metadata": {},
     "output_type": "display_data"
    }
   ],
   "source": [
    "print(prediction(user_input))\n",
    "md.deploy(get_prediction)"
   ]
  },
  {
   "cell_type": "code",
   "execution_count": 42,
   "metadata": {},
   "outputs": [
    {
     "data": {
      "text/html": [
       "<div style=\"margin: 0; padding: 5px; line-height: 1.75; font-size: 14px; vertical-align: baseline; list-style: none; font-family: Roboto, Arial, sans-serif; background: none;\">\n",
       "  <div>\n",
       "    <span style=\"margin: 0; padding: 0; line-height: 1.75; font-size: 14px; vertical-align: baseline; list-style: none; font-family: Roboto, Arial, sans-serif; background: none; font-weight: bold; color: #15803d;\">Deploying </span> <span style=\"margin: 0; padding: 3px; line-height: 1.75; font-size: 13px; vertical-align: baseline; list-style: none; font-family: monospace; background: none; font-weight: 400; background-color: rgba(209, 213, 219, 0.2);\">prediction</span>\n",
       "  </div>\n",
       "  \n",
       "\n",
       "  <div style=\"margin: 0; padding: 0; line-height: 1.75; font-size: 14px; vertical-align: baseline; list-style: none; font-family: Roboto, Arial, sans-serif; background: none;\">Uploading dependencies...</div>\n",
       "</div>"
      ],
      "text/plain": [
       "<IPython.core.display.HTML object>"
      ]
     },
     "metadata": {},
     "output_type": "display_data"
    },
    {
     "data": {
      "text/html": [
       "<div style=\"margin: 0; padding: 5px; line-height: 1.75; font-size: 14px; vertical-align: baseline; list-style: none; font-family: Roboto, Arial, sans-serif; background: none;\">\n",
       "  <div style=\"margin: 0; padding: 0; line-height: 1.75; font-size: 14px; vertical-align: baseline; list-style: none; font-family: Roboto, Arial, sans-serif; background: none; font-weight: bold; color: #15803d;\">Success!</div>\n",
       "  \n",
       "    <div style=\"margin: 0; padding: 0; line-height: 1.75; font-size: 14px; vertical-align: baseline; list-style: none; font-family: Roboto, Arial, sans-serif; background: none;\">\n",
       "      Deployment <span style=\"margin: 0; padding: 3px; line-height: 1.75; font-size: 13px; vertical-align: baseline; list-style: none; font-family: monospace; background: none; font-weight: 400; background-color: rgba(209, 213, 219, 0.2);\">prediction</span>\n",
       "      will be ready in  a few seconds!\n",
       "    </div>\n",
       "  \n",
       "\n",
       "  <a href=\"https://app.modelbit.com/w/hassanbutt/main/deployments/prediction/apis\" target=\"_blank\" style=\"display: inline-block; margin-top: 12px;\" >\n",
       "    <div\n",
       "      style=\"display: inline-block; background-color: #845B99; border-radius: 0.375rem; color: white; cursor: pointer; font-size: 14px; font-weight: 700; padding: 8px 16px;\"\n",
       "      onmouseenter=\"this.style.background='#714488'\"\n",
       "      onmouseleave=\"this.style.background='#845B99'\"\n",
       "    >\n",
       "      View in Modelbit\n",
       "    </div>\n",
       "  </a>\n",
       "</div>"
      ],
      "text/plain": [
       "<IPython.core.display.HTML object>"
      ]
     },
     "metadata": {},
     "output_type": "display_data"
    }
   ],
   "source": [
    "md.deploy(prediction)"
   ]
  }
 ],
 "metadata": {
  "interpreter": {
   "hash": "526214bdc378092923432e559a2f93e38b5636a6e558da61d53533c6d1b0f693"
  },
  "kernelspec": {
   "display_name": "Python 3.9.13 64-bit ('leadScore')",
   "language": "python",
   "name": "python3"
  },
  "language_info": {
   "codemirror_mode": {
    "name": "ipython",
    "version": 3
   },
   "file_extension": ".py",
   "mimetype": "text/x-python",
   "name": "python",
   "nbconvert_exporter": "python",
   "pygments_lexer": "ipython3",
   "version": "3.9.13"
  }
 },
 "nbformat": 4,
 "nbformat_minor": 2
}
